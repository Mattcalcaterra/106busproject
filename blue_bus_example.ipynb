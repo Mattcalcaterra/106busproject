{
 "cells": [
  {
   "cell_type": "code",
   "execution_count": 11,
   "metadata": {},
   "outputs": [],
   "source": [
    "import requests\n",
    "import json\n",
    "import pandas as pd\n",
    "\n",
    "from mbuskey import API_KEY"
   ]
  },
  {
   "cell_type": "code",
   "execution_count": 7,
   "metadata": {},
   "outputs": [],
   "source": [
    "ENDPOINT = \"https://mbus.ltp.umich.edu/bustime/api/v3\""
   ]
  },
  {
   "cell_type": "code",
   "execution_count": 8,
   "metadata": {},
   "outputs": [],
   "source": [
    "def get_bus_routes(params={\"key\": API_KEY, \"format\": \"json\"}):\n",
    "    \"\"\"Get all bus routes\"\"\"\n",
    "    response = requests.get(f\"{ENDPOINT}/getroutes\", params=params)\n",
    "    return response.json()"
   ]
  },
  {
   "cell_type": "code",
   "execution_count": 9,
   "metadata": {},
   "outputs": [],
   "source": [
    "def get_vehicles(rt):\n",
    "    \"\"\"Get all active vehicles\"\"\"\n",
    "    params = {\"key\": API_KEY, \"format\": \"json\", \"rt\": rt}\n",
    "    response = requests.get(f\"{ENDPOINT}/getvehicles\", params=params)\n",
    "    if response.json()[\"bustime-response\"].get(\"error\"):\n",
    "        return []\n",
    "    return [bus for bus in response.json()[\"bustime-response\"].get(\"vehicle\")]"
   ]
  },
  {
   "cell_type": "code",
   "execution_count": 12,
   "metadata": {},
   "outputs": [
    {
     "data": {
      "text/html": [
       "<div>\n",
       "<style scoped>\n",
       "    .dataframe tbody tr th:only-of-type {\n",
       "        vertical-align: middle;\n",
       "    }\n",
       "\n",
       "    .dataframe tbody tr th {\n",
       "        vertical-align: top;\n",
       "    }\n",
       "\n",
       "    .dataframe thead th {\n",
       "        text-align: right;\n",
       "    }\n",
       "</style>\n",
       "<table border=\"1\" class=\"dataframe\">\n",
       "  <thead>\n",
       "    <tr style=\"text-align: right;\">\n",
       "      <th></th>\n",
       "      <th>vid</th>\n",
       "      <th>tmstmp</th>\n",
       "      <th>lat</th>\n",
       "      <th>lon</th>\n",
       "      <th>hdg</th>\n",
       "      <th>pid</th>\n",
       "      <th>rt</th>\n",
       "      <th>des</th>\n",
       "      <th>pdist</th>\n",
       "      <th>dly</th>\n",
       "      <th>spd</th>\n",
       "      <th>tatripid</th>\n",
       "      <th>origtatripno</th>\n",
       "      <th>tablockid</th>\n",
       "      <th>zone</th>\n",
       "      <th>mode</th>\n",
       "      <th>psgld</th>\n",
       "      <th>stst</th>\n",
       "      <th>stsd</th>\n",
       "    </tr>\n",
       "  </thead>\n",
       "  <tbody>\n",
       "    <tr>\n",
       "      <th>0</th>\n",
       "      <td>3040</td>\n",
       "      <td>20231127 15:51</td>\n",
       "      <td>42.28909156849836</td>\n",
       "      <td>-83.71972328722659</td>\n",
       "      <td>161</td>\n",
       "      <td>12</td>\n",
       "      <td>CS</td>\n",
       "      <td>Lot SC-7</td>\n",
       "      <td>6534</td>\n",
       "      <td>False</td>\n",
       "      <td>33</td>\n",
       "      <td>488172</td>\n",
       "      <td>488172</td>\n",
       "      <td>110COM</td>\n",
       "      <td></td>\n",
       "      <td>0</td>\n",
       "      <td>FULL</td>\n",
       "      <td>56700</td>\n",
       "      <td>2023-11-27</td>\n",
       "    </tr>\n",
       "    <tr>\n",
       "      <th>1</th>\n",
       "      <td>3041</td>\n",
       "      <td>20231127 15:51</td>\n",
       "      <td>42.27888634172821</td>\n",
       "      <td>-83.7371148351346</td>\n",
       "      <td>178</td>\n",
       "      <td>12</td>\n",
       "      <td>CS</td>\n",
       "      <td>Lot SC-7</td>\n",
       "      <td>18685</td>\n",
       "      <td>False</td>\n",
       "      <td>0</td>\n",
       "      <td>488173</td>\n",
       "      <td>488173</td>\n",
       "      <td>116COM</td>\n",
       "      <td></td>\n",
       "      <td>0</td>\n",
       "      <td>FULL</td>\n",
       "      <td>56100</td>\n",
       "      <td>2023-11-27</td>\n",
       "    </tr>\n",
       "  </tbody>\n",
       "</table>\n",
       "</div>"
      ],
      "text/plain": [
       "    vid          tmstmp                lat                 lon  hdg  pid  rt  \\\n",
       "0  3040  20231127 15:51  42.28909156849836  -83.71972328722659  161   12  CS   \n",
       "1  3041  20231127 15:51  42.27888634172821   -83.7371148351346  178   12  CS   \n",
       "\n",
       "        des  pdist    dly  spd tatripid origtatripno tablockid zone  mode  \\\n",
       "0  Lot SC-7   6534  False   33   488172       488172    110COM          0   \n",
       "1  Lot SC-7  18685  False    0   488173       488173    116COM          0   \n",
       "\n",
       "  psgld   stst        stsd  \n",
       "0  FULL  56700  2023-11-27  \n",
       "1  FULL  56100  2023-11-27  "
      ]
     },
     "execution_count": 12,
     "metadata": {},
     "output_type": "execute_result"
    }
   ],
   "source": [
    "pd.DataFrame(get_vehicles(\"CS\"))"
   ]
  },
  {
   "cell_type": "code",
   "execution_count": 5,
   "metadata": {},
   "outputs": [],
   "source": [
    "def check_delays(bus_list):\n",
    "    \"\"\"Check if any buses are delayed\"\"\"\n",
    "    for bus in bus_list:\n",
    "        if bus[\"dly\"] == \"true\":\n",
    "            return True\n",
    "    return False"
   ]
  },
  {
   "cell_type": "code",
   "execution_count": 6,
   "metadata": {},
   "outputs": [],
   "source": [
    "def get_route_name(rt):\n",
    "    for route in get_bus_routes()[\"bustime-response\"][\"routes\"]:\n",
    "        if route[\"rt\"] == rt:\n",
    "            return route[\"rtnm\"]"
   ]
  },
  {
   "cell_type": "code",
   "execution_count": 7,
   "metadata": {},
   "outputs": [],
   "source": [
    "def user_delay_checker():\n",
    "    routes = get_bus_routes()[\"bustime-response\"][\"routes\"]\n",
    "    all_buses = []\n",
    "    for route in routes:\n",
    "        for bus in get_vehicles(route[\"rt\"]):\n",
    "            all_buses.append(bus)\n",
    "\n",
    "    current_rts = []\n",
    "    for bus in all_buses:\n",
    "        if bus[\"rt\"] not in current_rts:\n",
    "            current_rts.append(bus[\"rt\"])\n",
    "\n",
    "    current_rtnms = [get_route_name(rt) for rt in current_rts]\n",
    "\n",
    "    print(\"--- Current Routes ---\")\n",
    "    for rtnm in current_rtnms:\n",
    "        print(rtnm)\n",
    "    print(\"----------------------\")\n",
    "    while True:\n",
    "        user_route = input(\"Which route would you like to check for delays? \")\n",
    "\n",
    "        for route in routes:\n",
    "            if route[\"rtnm\"] == user_route:\n",
    "                user_rt = route[\"rt\"]\n",
    "\n",
    "        user_rt_delay = check_delays(get_vehicles(user_rt))\n",
    "\n",
    "        if user_rt_delay:\n",
    "            print()\n",
    "            print(f\"{user_route} is delayed!\")\n",
    "            print()\n",
    "        else:\n",
    "            print()\n",
    "            print(f\"{user_route} is not delayed!\")\n",
    "            print()\n",
    "\n",
    "        user_continue = input(\"Would you like to check another route? (y/n) \")\n",
    "        if user_continue == \"n\":\n",
    "            print()\n",
    "            print(\"Thanks for checking the buses!\")\n",
    "            print()\n",
    "            break"
   ]
  },
  {
   "cell_type": "code",
   "execution_count": 8,
   "metadata": {},
   "outputs": [
    {
     "name": "stdout",
     "output_type": "stream",
     "text": [
      "--- Current Routes ---\n",
      "Bursley Baits\n",
      "Commuter North\n",
      "Commuter South\n",
      "Diag-to-Diag Express\n",
      "Med Express\n",
      "North-East Shuttle\n",
      "Northwood\n",
      "Wall Street-NIB\n",
      "----------------------\n",
      "\n",
      "Bursley Baits is not delayed!\n",
      "\n",
      "\n",
      "Thanks for checking the buses!\n",
      "\n"
     ]
    }
   ],
   "source": [
    "user_delay_checker()"
   ]
  },
  {
   "cell_type": "code",
   "execution_count": null,
   "metadata": {},
   "outputs": [],
   "source": []
  }
 ],
 "metadata": {
  "kernelspec": {
   "display_name": "Python 3",
   "language": "python",
   "name": "python3"
  },
  "language_info": {
   "codemirror_mode": {
    "name": "ipython",
    "version": 3
   },
   "file_extension": ".py",
   "mimetype": "text/x-python",
   "name": "python",
   "nbconvert_exporter": "python",
   "pygments_lexer": "ipython3",
   "version": "3.11.4"
  }
 },
 "nbformat": 4,
 "nbformat_minor": 2
}
