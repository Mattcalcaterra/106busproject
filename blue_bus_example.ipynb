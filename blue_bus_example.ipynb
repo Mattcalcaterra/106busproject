{
 "cells": [
  {
   "cell_type": "code",
   "execution_count": 1,
   "metadata": {},
   "outputs": [],
   "source": [
    "import requests\n",
    "import json\n",
    "\n",
    "from mbuskey import API_KEY"
   ]
  },
  {
   "cell_type": "code",
   "execution_count": 2,
   "metadata": {},
   "outputs": [],
   "source": [
    "ENDPOINT = \"https://mbus.ltp.umich.edu/bustime/api/v3\""
   ]
  },
  {
   "cell_type": "code",
   "execution_count": 5,
   "metadata": {},
   "outputs": [],
   "source": [
    "def get_bus_routes(params={\"key\": API_KEY, \"format\": \"json\"}):\n",
    "    \"\"\"Get all bus routes\"\"\"\n",
    "    response = requests.get(f\"{ENDPOINT}/getroutes\", params=params)\n",
    "    return response.json()"
   ]
  },
  {
   "cell_type": "code",
   "execution_count": 53,
   "metadata": {},
   "outputs": [],
   "source": [
    "def get_vehicles(rt):\n",
    "    \"\"\"Get all active vehicles\"\"\"\n",
    "    params = {\"key\": API_KEY, \"format\": \"json\", \"rt\": rt}\n",
    "    response = requests.get(f\"{ENDPOINT}/getvehicles\", params=params)\n",
    "    if response.json()[\"bustime-response\"].get(\"error\"):\n",
    "        return []\n",
    "    return [bus for bus in response.json()[\"bustime-response\"].get(\"vehicle\")]"
   ]
  },
  {
   "cell_type": "code",
   "execution_count": 85,
   "metadata": {},
   "outputs": [],
   "source": [
    "def check_delays(bus_list):\n",
    "    \"\"\"Check if any buses are delayed\"\"\"\n",
    "    for bus in bus_list:\n",
    "        if bus[\"dly\"] == \"true\":\n",
    "            return True\n",
    "    return False"
   ]
  },
  {
   "cell_type": "code",
   "execution_count": 67,
   "metadata": {},
   "outputs": [],
   "source": [
    "def get_route_name(rt):\n",
    "    for route in get_bus_routes()[\"bustime-response\"][\"routes\"]:\n",
    "        if route[\"rt\"] == rt:\n",
    "            return route[\"rtnm\"]"
   ]
  },
  {
   "cell_type": "code",
   "execution_count": 104,
   "metadata": {},
   "outputs": [],
   "source": [
    "def user_delay_checker():\n",
    "    routes = get_bus_routes()[\"bustime-response\"][\"routes\"]\n",
    "    all_buses = []\n",
    "    for route in routes:\n",
    "        for bus in get_vehicles(route[\"rt\"]):\n",
    "            all_buses.append(bus)\n",
    "\n",
    "    current_rts = []\n",
    "    for bus in all_buses:\n",
    "        if bus[\"rt\"] not in current_rts:\n",
    "            current_rts.append(bus[\"rt\"])\n",
    "\n",
    "    current_rtnms = [get_route_name(rt) for rt in current_rts]\n",
    "\n",
    "    print(\"--- Current Routes ---\")\n",
    "    for rtnm in current_rtnms:\n",
    "        print(rtnm)\n",
    "    print(\"----------------------\")\n",
    "    while True:\n",
    "        user_route = input(\"Which route would you like to check for delays? \")\n",
    "\n",
    "        for route in routes:\n",
    "            if route[\"rtnm\"] == user_route:\n",
    "                user_rt = route[\"rt\"]\n",
    "\n",
    "        user_rt_delay = check_delays(get_vehicles(user_rt))\n",
    "\n",
    "        if user_rt_delay:\n",
    "            print()\n",
    "            print(f\"{user_route} is delayed!\")\n",
    "            print()\n",
    "        else:\n",
    "            print()\n",
    "            print(f\"{user_route} is not delayed!\")\n",
    "            print()\n",
    "\n",
    "        user_continue = input(\"Would you like to check another route? (y/n) \")\n",
    "        if user_continue == \"n\":\n",
    "            print()\n",
    "            print(\"Thanks for checking the buses!\")\n",
    "            print()\n",
    "            break"
   ]
  },
  {
   "cell_type": "code",
   "execution_count": 105,
   "metadata": {},
   "outputs": [
    {
     "name": "stdout",
     "output_type": "stream",
     "text": [
      "--- Current Routes ---\n",
      "Bursley Baits\n",
      "Northwood\n",
      "Oxford Shuttle\n",
      "\n",
      "Northwood is not delayed!\n",
      "\n",
      "\n",
      "Thanks for checking the buses!\n",
      "\n"
     ]
    }
   ],
   "source": [
    "user_delay_checker()"
   ]
  }
 ],
 "metadata": {
  "kernelspec": {
   "display_name": "Python 3",
   "language": "python",
   "name": "python3"
  },
  "language_info": {
   "codemirror_mode": {
    "name": "ipython",
    "version": 3
   },
   "file_extension": ".py",
   "mimetype": "text/x-python",
   "name": "python",
   "nbconvert_exporter": "python",
   "pygments_lexer": "ipython3",
   "version": "3.10.6"
  }
 },
 "nbformat": 4,
 "nbformat_minor": 2
}
